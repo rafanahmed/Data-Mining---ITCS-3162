{
 "cells": [
  {
   "cell_type": "markdown",
   "id": "4260ce1f",
   "metadata": {},
   "source": [
    "# \"Digital Gold\": A Visual Analysis of Bitcoin as a Hedge Against Inflation and Market Volatility\n",
    "\n",
    "As inflation creates general unease within our economy, we're seeing a rise in investments into alternative commodities and assets that are said to \"hedge\"—an investment that's expected to hold or increase its value over time, even as the cost of everything else goes up. One of these assets is Bitcoin ($BTC), a cryptocurrency often dubbed \"Digital Gold\" based on popular sentiment. \n",
    "\n",
    "As governments printed significant amounts of money, especially in recent years, many investors have looked for assets that can protect their wealth from the resulting inflation. Proponents claim Bitcoin, with its fixed supply, is a perfect candidate. This project explores and investigates this popular claim, asking:\n",
    "\n",
    "- Does Bitcoin's volatility change during periods of high vs. low inflation? A good hedge should ideally be stable, but what if Bitcoin becomes more chaotic and unpredictable precisely when you need it to be a safe haven?\n",
    "- During major stock market crashes, does Bitcoin act as a 'safe haven' by holding its value, or does it crash even harder?\n",
    "- Does the relationship between Bitcoin and inflation stay the same over time, or does it change depending on the market environment?"
   ]
  },
  {
   "cell_type": "markdown",
   "id": "df2d8550",
   "metadata": {},
   "source": [
    "### Mining Metrics: Sourcing Our Datasets\n",
    "Several key financial and economic datasets are needed to investigate the relationship between Bitcoin, inflation, and broader market behavior. The following data was sourced from Yahoo Finance (via the `yfinance` library) and the Federal Reserve Economic Data (FRED) database.\n",
    "\n",
    "**1. Bitcoin (BTC-USD)**\n",
    "> This dataset contains the daily price history of Bitcoin valued in U.S. Dollars, which is central to evaluating its performance as an asset.\n",
    "\n",
    "- **Source:** Yahoo Finance (`yfinance` Ticker: BTC-USD)\n",
    "- **Link:** https://finance.yahoo.com/quote/BTC-USD/\n",
    "- **Features**:\n",
    "    - **Date:** The trading day\n",
    "    - **Open/High/Low/Close:** The opening, highest, lowest, and closing prices for the day.\n",
    "    - **Volume:** The total number of Bitcoins traded.\n",
    "\n",
    "**2. S&P 500 Index (^GSPC)**\n",
    "> This data tracks the performance of 500 of the largest publicly-traded companies in the United States, offering a snapshot of the overall health of the U.S. stock market. This is essential for analyzing how Bitcoin behaves during broad market movements and crashes.\n",
    "\n",
    "- **Source:** Yahoo Finance (`yfinance` Ticker: ^GSPC)\n",
    "- **Link:** https://finance.yahoo.com/quote/GSPC/\n",
    "- **Features:** Includes the same trading day, OHLC (Open, High, Low, Close) and Volume data points as the Bitcoin dataset, but for the S&P 500 index.\n",
    "\n",
    "**3. CBOE Volatility Index (^VIX)**\n",
    "> Also known as a \"fear index,\" the VIX measures expected market volatility. It is crucial for understanding how Bitcoin's own volatility and price action correlate with periods of market fear and uncertainty.\n",
    "\n",
    " - **Source:** Yahoo Finance (`yfinance` Ticker: ^VIX)\n",
    " - **Link:** https://finance.yahoo.com/quote/^VIX/\n",
    " - **Features:** Contains OHLC data points representing the daily values of the index.\n",
    "\n",
    "**4. Gold Futures (GC=F)**\n",
    "> This dataset tracks the price of gold, the traditional safe-haven asset. It provides a direct benchmark to compare against Bitcoin's performance as an inflation hedge and store of value.\n",
    "\n",
    " - **Source:** Yahoo Finance (`yfinance` Ticker: GC=F)\n",
    " - **Link:** https://finance.yahoo.com/quote/GC=F/\n",
    " - **Features:** Contains OHLC and Volume data for gold futures contracts.\n",
    "\n",
    "**5. U.S Inflation (CPIAUCSL)**\n",
    "> This is the primary measure of inflation. The dataset tracks the average change in prices paid by urban consumers for a basket of goods and services.\n",
    "\n",
    " - **Source:** Federal Reserve Economic Data (FRED Ticker: CPIAUCSL)\n",
    " - **Link:** https://fred.stlouisfed.org/series/CPIAUCSL\n",
    " - **Features:**\n",
    "    - **Date:** The date of the observation\n",
    "    - **Value:** A seasonally adjusted index value (1982-1984 = 100) representing the relative cost of goods.\n",
    "\n",
    "**6. Effective Federal Funds Rate (DFF)**\n",
    "> This dataset tracks the interest rate at which commercial banks lend reserves to each other overnight. It reflects the U.S. monetary policy stance, providing essential context on the macroeconomic environment influencing asset prices.\n",
    "\n",
    " - **Source:** Federal Reserve Economic Data (FRED Ticker: DFF)\n",
    " - **Link:** https://fred.stlouisfed.org/series/DFF\n",
    " - **Features:**\n",
    "    - **Date:** The date of the observation\n",
    "    - **Value:** The effective federal funds rate, expressed as a percentage."
   ]
  }
 ],
 "metadata": {
  "language_info": {
   "name": "python"
  }
 },
 "nbformat": 4,
 "nbformat_minor": 5
}
